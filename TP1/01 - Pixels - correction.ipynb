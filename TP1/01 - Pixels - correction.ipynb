{
 "cells": [
  {
   "cell_type": "markdown",
   "metadata": {},
   "source": [
    "# Traitement d'images numériques\n",
    "\n",
    "Utilisation de pillow en python pour traiter des images\n",
    "\n",
    "Lien avec le programme :\n",
    "\n",
    "![SegmentLocal](images/programme.jpg \"segment\")\n",
    "    \n"
   ]
  },
  {
   "cell_type": "markdown",
   "metadata": {},
   "source": [
    "<div class=\"alert alert-info\" role=\"alert\">\n",
    "  \n",
    "Vous êtes en train d'utiliser un notebook jupyter qui utilise le language Python.<br>\n",
    "Il y a des cellules de texte et des cellules de code.<br>\n",
    "\n",
    "<strong>Travail à faire sur le notebook : </strong> <br>\n",
    "    Pour les cellules suivantes, cliquez sur 'Exécuter' ou alors appuyez sur <strong>shift entrée </strong>pour lancer le code Python contenu chaque cellule <br>\n",
    "    En cas de blocage de la page web, cliquer sur Kernel puis Restart <br>\n",
    "    En cas de blocage persistant redémarrer la page à partir de l'adresse du fichier pdf.\n",
    "</div>"
   ]
  },
  {
   "cell_type": "markdown",
   "metadata": {},
   "source": [
    "La cellule suivante va importer le module Image de la bibliothèque pillow (PIL)"
   ]
  },
  {
   "cell_type": "code",
   "execution_count": null,
   "metadata": {},
   "outputs": [],
   "source": [
    "from PIL.Image import * # permet d'importer le module image de la bibliothèque PIL"
   ]
  },
  {
   "cell_type": "markdown",
   "metadata": {},
   "source": [
    "Nous sommes maintenant prêts à travailler !"
   ]
  },
  {
   "cell_type": "markdown",
   "metadata": {},
   "source": [
    "__1. Fonctions de base du module pillow :__"
   ]
  },
  {
   "cell_type": "markdown",
   "metadata": {},
   "source": [
    "Exécuter les cellules suivantes et lire les commentaires pour comprendre ce qui se passe :"
   ]
  },
  {
   "cell_type": "code",
   "execution_count": null,
   "metadata": {},
   "outputs": [],
   "source": [
    "img=open(\"France.png\") #l'image est chargée en mémoire - mais pas affichée\n",
    "img # permet de l'afficher dans le notebook"
   ]
  },
  {
   "cell_type": "code",
   "execution_count": null,
   "metadata": {},
   "outputs": [],
   "source": [
    "largeur = img.width # Cette instruction permet de stocker la largeur de l'image (en pixels) dans une variable appelée largeur\n",
    "hauteur = img.height\n",
    "print ('largeur : ', largeur, 'pixels', '; hauteur : ', hauteur,'pixels')"
   ]
  },
  {
   "cell_type": "markdown",
   "metadata": {},
   "source": [
    "Les pixels sont rangés selon une grille et ont chacun des coordonnées (x,y) :\n",
    "\n",
    "![SegmentLocal](images/coordonnees.jpg \"segment\")"
   ]
  },
  {
   "cell_type": "markdown",
   "metadata": {},
   "source": [
    "On peut récupérer l'information rouge, Vert, bleu d'un pixel de l'image de coordonnées (x, y).\n",
    "\n",
    "A votre avis, quelle couleur pour le pixel de coordonnées (100,300) du drapeau français ?\n",
    "Vérifier votre réponse avec le programme Python ci-dessous :"
   ]
  },
  {
   "cell_type": "code",
   "execution_count": null,
   "metadata": {},
   "outputs": [],
   "source": [
    "x=601 # position en largeur\n",
    "y=0 # position en hauteur\n",
    "\n",
    "(r,v,b)=img.getpixel((x,y))\n",
    "\n",
    "print(\"la composante rouge vaut : \", r, \"la composante verte vaut : \", v, \"la composante bleu vaut : \", b)"
   ]
  },
  {
   "cell_type": "markdown",
   "metadata": {},
   "source": [
    "<style>\n",
    "    p {\n",
    "      background-color: blue;\n",
    "      padding: 5px;\n",
    "      border: 1px solid black;\n",
    "    }\n",
    "Modifier les coordonnées du pixel pour obtenir les composantes (r,v,b) de pixels situés dans chaque partie du drapeau <br>\n",
    "--> Noter vos résultats sur la feuille réponse\n"
   ]
  },
  {
   "cell_type": "markdown",
   "metadata": {},
   "source": [
    "<div class=\"travail à faire\">\n",
    "On peut modifier la couleur (r,v,b) d'un pixel de coordonnées (x,y) avec l'instruction : `putpixel( (x,y), (r,v,b) )`\n",
    "\n",
    "Lire le programme Python suivant et essayer de deviner ce qu'il va faire :\n",
    "</div>\n",
    "    "
   ]
  },
  {
   "cell_type": "code",
   "execution_count": null,
   "metadata": {},
   "outputs": [],
   "source": [
    "img=open(\"France.png\") #l'image est rechargée en mémoire\n",
    "x=450\n",
    "y=300\n",
    "img.putpixel((x,y), (0,0,0))\n",
    "img"
   ]
  },
  {
   "cell_type": "markdown",
   "metadata": {},
   "source": [
    "Voici un exemple de code qui utilise une double boucle pour parcourir une partie des pixels de la bande de gauche du drapeau et pour les recolorier en noir.\n",
    "Lire le code puis l'exécuter.\n"
   ]
  },
  {
   "cell_type": "code",
   "execution_count": null,
   "metadata": {},
   "outputs": [],
   "source": [
    "img=open(\"France.png\") #l'image est chargée en mémoire / permet aussi de la rechager sans les modifications \n",
    "\n",
    "# on traite la première bande du drapeau\n",
    "\n",
    "for x in range(0,300):\n",
    "    for y in range(0,600):\n",
    "        # Ici on traite le pixel (x,y) de l'image\n",
    "        img.putpixel((x,y), (0,0,0)) # on le colorie en noir\n",
    "\n",
    "        # on traite la deuxième bande du drapeau\n",
    "for x in range(300,600):\n",
    "    for y in range(0,600):\n",
    "        # Ici on traite le pixel (x,y) de l'image\n",
    "        img.putpixel((x,y), (255,255,0))# on le colorie en jaune\n",
    "\n",
    "# la troisiéme bande est déjà rouge\n",
    "\n",
    "# on affiche l'image dans le notebook pour vérifier :\n",
    "img"
   ]
  }
 ],
 "metadata": {
  "kernel_info": {
   "name": "python3"
  },
  "kernelspec": {
   "display_name": "Python 3",
   "language": "python",
   "name": "python3"
  },
  "language_info": {
   "codemirror_mode": {
    "name": "ipython",
    "version": 3
   },
   "file_extension": ".py",
   "mimetype": "text/x-python",
   "name": "python",
   "nbconvert_exporter": "python",
   "pygments_lexer": "ipython3",
   "version": "3.7.9"
  },
  "nteract": {
   "version": "0.15.0"
  }
 },
 "nbformat": 4,
 "nbformat_minor": 4
}
