{
 "cells": [
  {
   "cell_type": "markdown",
   "metadata": {},
   "source": [
    "# Traitement d'images numériques\n",
    "\n",
    "Utilisation de pillow en python pour traiter des images\n",
    "\n",
    "Lien avec le programme :\n",
    "\n",
    "![SegmentLocal](images/programme.jpg \"segment\")\n",
    "    \n"
   ]
  },
  {
   "cell_type": "markdown",
   "metadata": {},
   "source": [
    "<div class=\"alert alert-info\" role=\"alert\">\n",
    "  \n",
    "Vous êtes en train d'utiliser un notebook jupyter qui utilise le language Python.<br>\n",
    "Il y a des cellules de texte et des cellules de code.<br>\n",
    "\n",
    "<strong>Travail à faire sur le notebook : </strong> <br>\n",
    "    Pour les cellules suivantes, cliquez sur 'Exécuter' ou alors appuyez sur <strong>shift entrée </strong>pour lancer le code Python contenu chaque cellule <br>\n",
    "    En cas de blocage de la page web, cliquer sur Kernel puis Restart <br>\n",
    "    En cas de blocage persistant redémarrer la page à partir de l'adresse du fichier pdf.\n",
    "</div>"
   ]
  },
  {
   "cell_type": "markdown",
   "metadata": {},
   "source": [
    "Par exemple la cellule de code ci-dessous va vous demander votre nom puis votre prénom :"
   ]
  },
  {
   "cell_type": "code",
   "execution_count": null,
   "metadata": {},
   "outputs": [],
   "source": [
    "nom = input(\"Quel est votre nom ?\")\n",
    "prénom=input(\"Quel est votre prénom ?\")"
   ]
  },
  {
   "cell_type": "code",
   "execution_count": null,
   "metadata": {},
   "outputs": [],
   "source": [
    "print(\"Bienvenue \", nom, prénom)"
   ]
  },
  {
   "cell_type": "markdown",
   "metadata": {},
   "source": [
    "La cellule suivante va importer le module Image de la bibliothèque pillow (PIL)"
   ]
  },
  {
   "cell_type": "code",
   "execution_count": null,
   "metadata": {},
   "outputs": [],
   "source": [
    "from PIL.Image import * # permet d'importer le module image de la bibliothèque PIL"
   ]
  },
  {
   "cell_type": "markdown",
   "metadata": {},
   "source": [
    "Nous sommes maintenant prêts à travailler !"
   ]
  },
  {
   "cell_type": "markdown",
   "metadata": {},
   "source": [
    "## 1 - Fonctions de base du module pillow"
   ]
  },
  {
   "cell_type": "markdown",
   "metadata": {},
   "source": [
    "<div class=\"alert alert-info\" role=\"alert\">\n",
    "  <strong>Travail à faire sur le notebook : </strong> <br>\n",
    "    Exécuter les cellules suivantes et lire les commentaires pour comprendre ce qui se passe :<br>\n",
    "    Pour les cellules suivantes, appuyez sur <strong>shift entrée </strong>pour lancer le code Python contenu chaque cellule\n",
    "</div>"
   ]
  },
  {
   "cell_type": "code",
   "execution_count": null,
   "metadata": {},
   "outputs": [],
   "source": [
    "img=open(\"France.png\") #l'image est chargée en mémoire - mais pas affichée\n",
    "img # permet de l'afficher dans le notebook : img est le nom de l'image"
   ]
  },
  {
   "cell_type": "code",
   "execution_count": null,
   "metadata": {},
   "outputs": [],
   "source": [
    "largeur = img.width # Cette instruction permet de stocker la largeur de l'image (en pixels) dans une variable appelée largeur\n",
    "hauteur = img.height\n",
    "print ('largeur : ', largeur, 'pixels', '; hauteur : ', hauteur,'pixels')"
   ]
  },
  {
   "cell_type": "markdown",
   "metadata": {},
   "source": [
    "Les pixels sont rangés selon une grille et ont chacun des coordonnées (x,y) :\n",
    "\n",
    "![SegmentLocal](images/coordonnees.jpg \"segment\")"
   ]
  },
  {
   "cell_type": "markdown",
   "metadata": {},
   "source": [
    "On peut récupérer l'information rouge, Vert, bleu d'un pixel de l'image de coordonnées (x, y).\n",
    "\n",
    "A votre avis, quelle couleur pour le pixel de coordonnées (100,300) du drapeau français ?\n",
    "Vérifier votre réponse avec le programme Python ci-dessous :"
   ]
  },
  {
   "cell_type": "code",
   "execution_count": null,
   "metadata": {},
   "outputs": [],
   "source": [
    "x=100 # position en largeur\n",
    "y=300 # position en hauteur\n",
    "\n",
    "(r,v,b)=img.getpixel((x,y)) # récupère les composantes rouge, vert, bleu du pixel situé aux coordonnées (x,y)\n",
    "\n",
    "print(\"la composante rouge vaut : \", r, \"la composante verte vaut : \", v, \"la composante bleu vaut : \", b)"
   ]
  },
  {
   "cell_type": "markdown",
   "metadata": {},
   "source": [
    "<style>\n",
    "    p {\n",
    "      background-color: blue;\n",
    "      padding: 5px;\n",
    "      border: 1px solid black;\n",
    "    }\n",
    "Modifier les coordonnées du pixel pour obtenir les composantes (r,v,b) de pixels situés dans chaque partie du drapeau <br>\n",
    "--> Noter vos résultats sur la feuille réponse\n"
   ]
  },
  {
   "cell_type": "markdown",
   "metadata": {},
   "source": [
    "<div class=\"alert alert-warning\" role=\"alert\">\n",
    "    <strong> Travail à faire sur la fiche réponse : </strong>\n",
    "    \n",
    "1) Quelles sont les dimensions du fichier image du drapeau français :<br>\n",
    "2) Quel est le format de fichier ? (extension)<br>\n",
    "3) Quelle instruction python permet de charger l'image en mémoire pour pouvoir l'utiliser ?<br>\n",
    "4) Que fait l’instruction getpixel ( (x,y) ) ?<br>\n",
    "5) Compléter le tableau avec les couleurs de chaque aprtie du drapeau français en mode R,V,B.<br>\n",
    "\n",
    "</div>"
   ]
  },
  {
   "cell_type": "markdown",
   "metadata": {},
   "source": [
    "***"
   ]
  },
  {
   "cell_type": "markdown",
   "metadata": {},
   "source": [
    "## 2 - Modifier les couleurs des pixels :\n",
    "\n",
    "On peut modifier la couleur (r,v,b) d'un pixel de coordonnées (x,y) avec l'instruction : `putpixel( (x,y), (r,v,b) )`  \n",
    "Lire le programme Python suivant et essayer de deviner ce qu'il va faire :\n",
    "\n",
    "    "
   ]
  },
  {
   "cell_type": "markdown",
   "metadata": {},
   "source": [
    "<div class=\"alert alert-info\" role=\"alert\">\n",
    "  <strong>Travail à faire sur le notebook : </strong> <br>\n",
    "    Exécuter les cellules suivantes et lire les commentaires pour comprendre ce qui se passe :<br>\n",
    "    Pour les cellules suivantes, appuyez sur <strong>shift entrée </strong>pour lancer le code Python contenu chaque cellule\n",
    "</div>"
   ]
  },
  {
   "cell_type": "code",
   "execution_count": null,
   "metadata": {},
   "outputs": [],
   "source": [
    "img=open(\"France.png\") #l'image est rechargée en mémoire\n",
    "x=450\n",
    "y=300\n",
    "img.putpixel((x,y), (0,0,0))\n",
    "img"
   ]
  },
  {
   "cell_type": "markdown",
   "metadata": {},
   "source": [
    "<div class=\"alert alert-warning\" role=\"alert\">\n",
    "    On souhaite modifier le drapeau de la France pour le recolorier avec les couleurs du drapeau belge ou du drapeau italien. <br>\n",
    " <strong> Travail à faire sur la fiche réponse : </strong> <br>\n",
    "   \n",
    "6) Que fait l’instruction :  `img.putpixel((450,300), (0,0,0))` ?<br>\n",
    "7) Compléter le schéma avec les coordonnées et les dimensions du tableau.<br>\n",
    "8) Après avoir compris le code Python ci-dessous, compléter votre fiche avec le code Python pour obtenir la couleur du milieu du drapeau.<br>\n",
    "</div>"
   ]
  },
  {
   "cell_type": "markdown",
   "metadata": {},
   "source": [
    "Voici un exemple de code qui utilise une double boucle pour parcourir une partie des pixels de la bande de gauche du drapeau et pour les recolorier en noir.\n",
    "Lire le code puis l'exécuter.\n"
   ]
  },
  {
   "cell_type": "code",
   "execution_count": null,
   "metadata": {},
   "outputs": [],
   "source": [
    "img=open(\"France.png\") #l'image est chargée en mémoire / permet aussi de la rechager sans les modifications \n",
    "\n",
    "for x in range(0,300):\n",
    "    for y in range(0,300):\n",
    "        # Ici on traite le pixel (x,y) de l'image\n",
    "        img.putpixel((x,y), (0,0,0))\n",
    "        \n",
    "img"
   ]
  },
  {
   "cell_type": "markdown",
   "metadata": {},
   "source": [
    "<div class=\"alert alert-warning\" role=\"alert\">\n",
    "Adaptez le code ci-dessous pour qu'il transforme la première bande du drapeau français en la première bande du drapeau désiré.<br>\n",
    " <strong> Travail à faire sur la fiche réponse : </strong> <br>\n",
    "   \n",
    "--> Effectuer alors la transformation complète du drapeau français<br>\n",
    "--> Faire vérifier.<br>\n",
    "</div>"
   ]
  },
  {
   "cell_type": "code",
   "execution_count": null,
   "metadata": {},
   "outputs": [],
   "source": [
    "img=open(\"France.png\") #l'image est chargée en mémoire / permet aussi de la rechager sans les modifications \n",
    "\n",
    "# double boucle qui change la couleur bleue\n",
    "for x in range(0,300):\n",
    "    for y in range(0,300):\n",
    "        # Ici on traite le pixel (x,y) de l'image\n",
    "        img.putpixel((x,y), (0,0,0))\n",
    "\n",
    "# copier-coller le code ci-dessus et adaptez le pour qu'il change la couleur de la bande blanche\n",
    "\n",
    "\n",
    "#\n",
    "img # pour afficher l'image modifiée\n",
    " \n"
   ]
  },
  {
   "cell_type": "markdown",
   "metadata": {},
   "source": [
    "La fonction ci-dessous va permettre de tester  si votre drapeau est réussi - Ne pas la modifier !"
   ]
  },
  {
   "cell_type": "code",
   "execution_count": null,
   "metadata": {
    "jupyter": {
     "source_hidden": true
    }
   },
   "outputs": [],
   "source": [
    "def test(image):\n",
    "    positif=True\n",
    "    for x in range(0,300):\n",
    "        if positif==False:\n",
    "            break\n",
    "        else :\n",
    "            for y in range(0,600):\n",
    "                (r,v,b)=img.getpixel((x,y))\n",
    "                if (r,v,b)!=(0,0,0) :\n",
    "                    positif = False\n",
    "                    print (positif,\": erreur pour le pixel :\", (x,y), \"qui est de couleur :\" , (r,v,b))\n",
    "                    break # ne fait sortir que de la boucle interne dans le cas de boucles imbriquées...\n",
    "            \n",
    "    for x in range(300,600):\n",
    "        if positif==False:\n",
    "            break\n",
    "        else :\n",
    "            for y in range(0,600):\n",
    "                (r,v,b)=img.getpixel((x,y))\n",
    "                if (r,v,b)!=(255,255,0) :\n",
    "                    positif = False\n",
    "                    print (positif,\": erreur pour le pixel :\", (x,y), \"qui est de couleur :\" , (r,v,b))\n",
    "                    break\n",
    "                \n",
    "    for x in range(600,900):\n",
    "        if positif==False:\n",
    "            break\n",
    "        else :\n",
    "            for y in range(0,600):\n",
    "                (r,v,b)=img.getpixel((x,y))\n",
    "                if (r,v,b)!=(255,0,0) :\n",
    "                    positif = False\n",
    "                    print (positif,\": erreur pour le pixel :\", (x,y), \"qui est de couleur :\" , (r,v,b))\n",
    "                    break\n",
    "    if positif==True:\n",
    "        print(\"Bon travail \", nom , \"  \", prénom)\n",
    "    return \n",
    "    \n",
    "    "
   ]
  },
  {
   "cell_type": "code",
   "execution_count": null,
   "metadata": {},
   "outputs": [],
   "source": [
    "test(img) # cette cellule effectue le test"
   ]
  },
  {
   "cell_type": "markdown",
   "metadata": {},
   "source": [
    "<div class=\"alert alert-warning\" role=\"alert\">\n",
    "    <strong> Travail à faire sur la fiche réponse : </strong> <br>\n",
    "--> Lorsque votre travail est terminé, faire vérifier.<br>\n",
    "--> Enregistrer votre travail :avec <strong>\"Download as a Notebook\"</strong> du menu File<br>\n",
    "--> Placer le fichier dans votre dossier personnel et dans le dossier commun de la classe.<br>\n",
    "\n",
    "\n",
    "</div>"
   ]
  },
  {
   "cell_type": "markdown",
   "metadata": {},
   "source": [
    "<div class=\"alert alert-success\" role=\"alert\">\n",
    " <strong> Le travail est terminé !</strong> <br>\n",
    "</div>"
   ]
  }
 ],
 "metadata": {
  "kernel_info": {
   "name": "python3"
  },
  "kernelspec": {
   "display_name": "Python 3",
   "language": "python",
   "name": "python3"
  },
  "language_info": {
   "codemirror_mode": {
    "name": "ipython",
    "version": 3
   },
   "file_extension": ".py",
   "mimetype": "text/x-python",
   "name": "python",
   "nbconvert_exporter": "python",
   "pygments_lexer": "ipython3",
   "version": "3.7.9"
  },
  "nteract": {
   "version": "0.15.0"
  }
 },
 "nbformat": 4,
 "nbformat_minor": 4
}
