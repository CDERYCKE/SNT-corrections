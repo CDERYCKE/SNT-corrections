{
 "cells": [
  {
   "cell_type": "markdown",
   "metadata": {},
   "source": [
    "# Utilisation de Python pour étudier l'évolution d'une grandeur"
   ]
  },
  {
   "cell_type": "markdown",
   "metadata": {},
   "source": [
    "Le but de ce TP est de découvrir des méthodes avec Python pour étudier l'évolution d'une grandeur en fonction du temps."
   ]
  },
  {
   "cell_type": "markdown",
   "metadata": {},
   "source": [
    "## La boucle For"
   ]
  },
  {
   "cell_type": "markdown",
   "metadata": {},
   "source": [
    "Commençons par étudier le total pour une tirelire dans laquelle on ajoute 2 € par jour.\n",
    "\n",
    "Pour cela on va créer 2 variables : total et temps"
   ]
  },
  {
   "cell_type": "markdown",
   "metadata": {},
   "source": [
    "<div class=\"alert alert-info\" role=\"alert\">\n",
    "    <strong>Travail à faire sur le notebook : </strong> <br>\n",
    "  Pour la cellule suivante, appuyez sur shift entrée pour lancer le code Python contenu dans cette cellule\n",
    "</div>"
   ]
  },
  {
   "cell_type": "code",
   "execution_count": null,
   "metadata": {},
   "outputs": [],
   "source": [
    "total = 0\n",
    "temps = 0"
   ]
  },
  {
   "cell_type": "markdown",
   "metadata": {},
   "source": [
    "On va maintenant créer une boucle pour calculer le total au bout d'un certain nombre de jours."
   ]
  },
  {
   "cell_type": "code",
   "execution_count": null,
   "metadata": {},
   "outputs": [],
   "source": [
    "for n in range(30):\n",
    "    temps=temps+1 # on ajoute 1 jour au temps précédent\n",
    "    total=total+2 # on ajoute 2 euros au total précédent"
   ]
  },
  {
   "cell_type": "raw",
   "metadata": {},
   "source": [
    "On fait alors afficher le résultat :"
   ]
  },
  {
   "cell_type": "code",
   "execution_count": null,
   "metadata": {},
   "outputs": [],
   "source": [
    "total"
   ]
  },
  {
   "cell_type": "markdown",
   "metadata": {},
   "source": [
    "On trouve alors 60 : 0 au départ + 30 jours epndant lesquels on ajoute 2"
   ]
  },
  {
   "cell_type": "markdown",
   "metadata": {},
   "source": [
    "On peut améliorer la mise en page avec la commande `print`:"
   ]
  },
  {
   "cell_type": "code",
   "execution_count": null,
   "metadata": {},
   "outputs": [],
   "source": [
    "print(\"Au bout de\", temps, \"jours, la somme total dans la tirelire vaut :\", total, \"euros\")"
   ]
  },
  {
   "cell_type": "markdown",
   "metadata": {},
   "source": [
    "<div class=\"alert alert-warning\" role=\"alert\">\n",
    "    <strong> Travail à faire : </strong> <br>\n",
    "    A vous de jouer :  On considère un  compte en banque sur lequel est déposée 100 €.<br>\n",
    "    La banque offre un taux d'intérêt de 2% par an : chaque année, la somme présente en début d'année est multipliée par 1,02.<br>\n",
    "    --> Fabriquer un programme qui calcule la somme totale au bout de 10 ans.<br>\n",
    "    --> Recopier votre code sur la fiche réponse.\n",
    "</div>"
   ]
  },
  {
   "cell_type": "markdown",
   "metadata": {},
   "source": [
    "<div class=\"alert alert-danger\" role=\"alert\">\n",
    "  <strong> La correction</strong> <br>\n",
    "</div>"
   ]
  },
  {
   "cell_type": "code",
   "execution_count": 4,
   "metadata": {},
   "outputs": [
    {
     "name": "stdout",
     "output_type": "stream",
     "text": [
      "Au bout de 30 ans, la somme totale sur le compte vaut : 181.13615841033547 euros\n"
     ]
    }
   ],
   "source": [
    "total = 100\n",
    "temps = 0\n",
    "\n",
    "for n in range(30):\n",
    "    temps=temps+1 # on ajoute 1 an au temps précédent\n",
    "    total=total*1.02 # on multiplie le total précédent par 1,02 (soit 100 % + 2% d'intérêts annuels)\n",
    "    \n",
    "print(\"Au bout de\", temps, \"ans, la somme totale sur le compte vaut :\", total, \"euros\")"
   ]
  },
  {
   "cell_type": "markdown",
   "metadata": {},
   "source": [
    "***"
   ]
  },
  {
   "cell_type": "markdown",
   "metadata": {},
   "source": [
    "## La boucle While\n",
    "On veut maintenant déterminer au bout de combien de temps la somme initiale aura été doublée.\n",
    "\n",
    "Pour cela on va utiliser une boucle while (\"Tant que\"). Cette boucle continue tant que la condition n'est pas réalisée."
   ]
  },
  {
   "cell_type": "markdown",
   "metadata": {},
   "source": [
    "Le code ci-dessous utilise une boucle while pour compter jusqu'à 10."
   ]
  },
  {
   "cell_type": "code",
   "execution_count": null,
   "metadata": {},
   "outputs": [],
   "source": [
    "n=0\n",
    "while (n<=10): # tant que n est inférieur ou égal à 10\n",
    "    print (n) # on affiche n\n",
    "    n=n+1 # on augmente n de 1 puis la boucle reprend si le test <= 10 ? est réussi"
   ]
  },
  {
   "cell_type": "markdown",
   "metadata": {},
   "source": [
    "<div class=\"alert alert-warning\" role=\"alert\">\n",
    "    <strong> Travail à faire : </strong> <br>\n",
    "    A vous de jouer :  On considère un  compte en banque sur lequel est déposée 100 €.<br>\n",
    "    La banque offre un taux d'intérêt de 2% par an : chaque année, la somme présente en début d'année est multipliée par 1,02.<br>\n",
    "    --> Fabriquer un programme qui calcule la durée au bout de laquelle la somme initiale est doublée et vaut (ou dépasse 200 €).<br>\n",
    "    --> Recopier votre code sur la fiche réponse.\n",
    "</div>"
   ]
  },
  {
   "cell_type": "markdown",
   "metadata": {},
   "source": [
    "<div class=\"alert alert-danger\" role=\"alert\">\n",
    "  <strong> La correction</strong> <br>\n",
    "</div>"
   ]
  },
  {
   "cell_type": "code",
   "execution_count": 6,
   "metadata": {},
   "outputs": [
    {
     "name": "stdout",
     "output_type": "stream",
     "text": [
      "36\n"
     ]
    }
   ],
   "source": [
    "total = 100\n",
    "temps = 0\n",
    "\n",
    "while (total<= 200):\n",
    "    temps=temps+1 # on ajoute 1 an au temps précédent\n",
    "    total=total*1.02 # on multiplie le total précédent par 1,02 (soit 100 % + 2% d'intérêts annuels)\n",
    "    \n",
    "print (temps) # pour afficher le nombre d'années"
   ]
  },
  {
   "cell_type": "markdown",
   "metadata": {},
   "source": [
    "***"
   ]
  },
  {
   "cell_type": "markdown",
   "metadata": {},
   "source": [
    "## La puissance de la croissance exponentielle !"
   ]
  },
  {
   "cell_type": "markdown",
   "metadata": {},
   "source": [
    "Les bactéries peuvent se dédoubler : 1 bactérie donne 2 bactéries.\n",
    "\n",
    "Puis ces 2 bactéries peuvent en donner 4, etc...\n",
    "\n",
    "On donne la durée pour que cette reproduction se fasse : 37 minutes.\n",
    "\n",
    "37 min --> 2 bactéries\n",
    "2 * 37 min --> 4 bactéries\n",
    "3 * 37 min --> 8 bactéries\n",
    "..."
   ]
  },
  {
   "cell_type": "markdown",
   "metadata": {},
   "source": [
    "**Question :** Calculer le nombre de bactéries au bout de 370 minutes (10 * 37) :"
   ]
  },
  {
   "cell_type": "markdown",
   "metadata": {},
   "source": [
    "<div class=\"alert alert-warning\" role=\"alert\">\n",
    "    <strong>Travail à faire sur le notebook : </strong> <br>\n",
    "    --> modifier le code suivant pour qu'il réponde à la question.<br>\n",
    "    --> Recopier votre code sur la fiche réponse\n",
    "</div>"
   ]
  },
  {
   "cell_type": "markdown",
   "metadata": {},
   "source": [
    "<div class=\"alert alert-danger\" role=\"alert\">\n",
    "  <strong> La correction</strong> <br>\n",
    "</div>"
   ]
  },
  {
   "cell_type": "code",
   "execution_count": 9,
   "metadata": {},
   "outputs": [
    {
     "data": {
      "text/plain": [
       "\"La population de bactéries sera de 1024 au bout d'une durée 370 minutes\""
      ]
     },
     "execution_count": 9,
     "metadata": {},
     "output_type": "execute_result"
    }
   ],
   "source": [
    "pop = 1\n",
    "temps = 0\n",
    "for n in range (10): # la boucle se fait 10 fois soit 10*37 = 370 minutes\n",
    "    pop = pop*2\n",
    "    temps =temps +37\n",
    "    \n",
    "f\"La population de bactéries sera de {pop} au bout d'une durée {temps} minutes\""
   ]
  },
  {
   "cell_type": "markdown",
   "metadata": {},
   "source": [
    "**Question :** Combien de temps pour atteindre 1 milliards de bactéries si leur population **double** toutes les 37 minutes ? (en partant d'une seule bactérie)."
   ]
  },
  {
   "cell_type": "markdown",
   "metadata": {},
   "source": [
    "<div class=\"alert alert-warning\" role=\"alert\">\n",
    "    <strong>Travail à faire sur le notebook : </strong> <br>\n",
    "    --> modifier le code suivant pour qu'il réponde à la question.<br>\n",
    "    --> Recopier votre code sur la fiche réponse\n",
    "</div>"
   ]
  },
  {
   "cell_type": "markdown",
   "metadata": {},
   "source": [
    "<div class=\"alert alert-danger\" role=\"alert\">\n",
    "  <strong> La correction</strong> <br>\n",
    "</div>"
   ]
  },
  {
   "cell_type": "code",
   "execution_count": 12,
   "metadata": {},
   "outputs": [
    {
     "data": {
      "text/plain": [
       "1110"
      ]
     },
     "execution_count": 12,
     "metadata": {},
     "output_type": "execute_result"
    }
   ],
   "source": [
    "pop=1 # une seule bactérie au départ\n",
    "temps=0\n",
    "while pop<=1000000000:\n",
    "    pop=pop*2 \n",
    "    temps=temps+37 \n",
    "\n",
    "temps"
   ]
  },
  {
   "cell_type": "markdown",
   "metadata": {},
   "source": [
    "On peut améliorer la présentation du résultat :"
   ]
  },
  {
   "cell_type": "code",
   "execution_count": 13,
   "metadata": {},
   "outputs": [
    {
     "data": {
      "text/plain": [
       "\"La population de bactéries sera de 1073741824 au bout d'une durée 1110 minutes\""
      ]
     },
     "execution_count": 13,
     "metadata": {},
     "output_type": "execute_result"
    }
   ],
   "source": [
    "f\"La population de bactéries sera de {pop} au bout d'une durée {temps} minutes\""
   ]
  },
  {
   "cell_type": "markdown",
   "metadata": {},
   "source": [
    "***"
   ]
  },
  {
   "cell_type": "markdown",
   "metadata": {},
   "source": [
    "## Tracé de graphique avec Python :\n",
    "On veut mainenant tracer l'évolution de la population avec le temps."
   ]
  },
  {
   "cell_type": "markdown",
   "metadata": {},
   "source": [
    "<div class=\"alert alert-info\" role=\"alert\">\n",
    "    <strong>Travail à faire sur le notebook : </strong> <br>\n",
    "  Pour les 2 cellules suivantes, appuyez sur shift entrée pour lancer le code Python contenu dans cette cellule\n",
    "</div>"
   ]
  },
  {
   "cell_type": "code",
   "execution_count": 14,
   "metadata": {
    "collapsed": true,
    "jupyter": {
     "outputs_hidden": true,
     "source_hidden": true
    }
   },
   "outputs": [
    {
     "name": "stdout",
     "output_type": "stream",
     "text": [
      "Requirement already satisfied: matplotlib in /Users/cderycke/anaconda3/lib/python3.7/site-packages (3.1.3)\n",
      "Requirement already satisfied: kiwisolver>=1.0.1 in /Users/cderycke/anaconda3/lib/python3.7/site-packages (from matplotlib) (1.1.0)\n",
      "Requirement already satisfied: numpy>=1.11 in /Users/cderycke/anaconda3/lib/python3.7/site-packages (from matplotlib) (1.18.1)\n",
      "Requirement already satisfied: python-dateutil>=2.1 in /Users/cderycke/anaconda3/lib/python3.7/site-packages (from matplotlib) (2.8.1)\n",
      "Requirement already satisfied: cycler>=0.10 in /Users/cderycke/anaconda3/lib/python3.7/site-packages (from matplotlib) (0.10.0)\n",
      "Requirement already satisfied: pyparsing!=2.0.4,!=2.1.2,!=2.1.6,>=2.0.1 in /Users/cderycke/anaconda3/lib/python3.7/site-packages (from matplotlib) (2.4.6)\n",
      "Requirement already satisfied: setuptools in /Users/cderycke/anaconda3/lib/python3.7/site-packages (from kiwisolver>=1.0.1->matplotlib) (46.1.1.post20200323)\n",
      "Requirement already satisfied: six>=1.5 in /Users/cderycke/anaconda3/lib/python3.7/site-packages (from python-dateutil>=2.1->matplotlib) (1.14.0)\n"
     ]
    }
   ],
   "source": [
    "!pip install matplotlib # installe le module nécessaire pour utilisation en ligne sur mybinder\n",
    "\n",
    "import matplotlib.pyplot as plt # importe la bibliothèque Python qui permet de tracer des graphiques"
   ]
  },
  {
   "cell_type": "code",
   "execution_count": 15,
   "metadata": {},
   "outputs": [
    {
     "name": "stdout",
     "output_type": "stream",
     "text": [
      "liste des temps :  [0, 37, 74, 111, 148, 185, 222, 259, 296, 333, 370]\n",
      "liste des populations :  [1, 2, 4, 8, 16, 32, 64, 128, 256, 512, 1024]\n"
     ]
    }
   ],
   "source": [
    "pop=[1] # on définit une liste population dont la première valeur vaut 1\n",
    "temps=[0] # on définit une liste temps dont la première valeur vaut 0\n",
    "\n",
    "for n in range (10): \n",
    "    pop.append(pop[-1]*2) # indice -1 permet d'atteindre le dernier élément de la liste que l'on multiplie par 2\n",
    "    temps.append(temps[-1]+37) # on ajoute 37 minutes au dernier temps de la liste\n",
    "\n",
    "print(\"liste des temps : \",temps)\n",
    "print(\"liste des populations : \", pop)\n"
   ]
  },
  {
   "cell_type": "markdown",
   "metadata": {},
   "source": [
    "***"
   ]
  },
  {
   "cell_type": "markdown",
   "metadata": {},
   "source": [
    "On va maintenant utiliser matplotlib et pyplot pour tracer le graphique :"
   ]
  },
  {
   "cell_type": "markdown",
   "metadata": {},
   "source": [
    "<div class=\"alert alert-info\" role=\"alert\">\n",
    "    <strong>Travail à faire sur le notebook : </strong> <br>\n",
    "  Pour la cellule suivante, appuyez sur shift entrée pour lancer le code Python contenu dans cette cellule\n",
    "</div>"
   ]
  },
  {
   "cell_type": "code",
   "execution_count": 16,
   "metadata": {},
   "outputs": [
    {
     "data": {
      "text/plain": [
       "[<matplotlib.lines.Line2D at 0x11e618450>]"
      ]
     },
     "execution_count": 16,
     "metadata": {},
     "output_type": "execute_result"
    },
    {
     "data": {
      "image/png": "[encoded data removed]",
      "text/plain": [
       "<Figure size 432x288 with 1 Axes>"
      ]
     },
     "metadata": {
      "needs_background": "light"
     },
     "output_type": "display_data"
    }
   ],
   "source": [
    "plt.xlabel('temps (min)')\n",
    "plt.ylabel('population')\n",
    "plt.title('Evolution de la population de bactéries', fontsize=12)\n",
    "plt.grid(True)\n",
    "plt.plot(temps,pop,\"rs--\")"
   ]
  },
  {
   "cell_type": "code",
   "execution_count": 17,
   "metadata": {},
   "outputs": [
    {
     "data": {
      "text/plain": [
       "[<matplotlib.lines.Line2D at 0x11e6fab50>]"
      ]
     },
     "execution_count": 17,
     "metadata": {},
     "output_type": "execute_result"
    },
    {
     "data": {
      "image/png": "[encoded data removed]",
      "text/plain": [
       "<Figure size 432x288 with 1 Axes>"
      ]
     },
     "metadata": {
      "needs_background": "light"
     },
     "output_type": "display_data"
    }
   ],
   "source": [
    "plt.xlabel('temps (min)')\n",
    "plt.ylabel('population')\n",
    "plt.yscale('log') # pour choisir une échelle log sur l'axe des ordonnées y\n",
    "plt.title('Evolution de la population de bactéries', fontsize=12)\n",
    "plt.grid(True)\n",
    "plt.plot(temps,pop,\"bs--\") # blue square tiret --\n"
   ]
  },
  {
   "cell_type": "markdown",
   "metadata": {},
   "source": [
    "Sur le graphique précédent avec un échelle logarithmique en ordonnée, déterminer la durée au bout de laquelle la population de bactéries est multipliée par 10."
   ]
  },
  {
   "cell_type": "markdown",
   "metadata": {},
   "source": [
    "***"
   ]
  },
  {
   "cell_type": "markdown",
   "metadata": {},
   "source": [
    "<div class=\"alert alert-danger\" role=\"alert\">\n",
    "  <strong> La correction</strong> <br>\n",
    "</div>"
   ]
  },
  {
   "cell_type": "markdown",
   "metadata": {},
   "source": [
    "<img src=\"doublement.jpg\" title=\"doublement\" align=left width=600, height=600/>"
   ]
  },
  {
   "cell_type": "markdown",
   "metadata": {},
   "source": [
    "<div class=\"alert alert-success\" role=\"alert\">\n",
    " <strong> Félicitations ! Le travail est terminé.</strong> <br>\n",
    "</div>"
   ]
  },
  {
   "cell_type": "markdown",
   "metadata": {},
   "source": [
    "***"
   ]
  }
 ],
 "metadata": {
  "kernelspec": {
   "display_name": "Python 3",
   "language": "python",
   "name": "python3"
  },
  "language_info": {
   "codemirror_mode": {
    "name": "ipython",
    "version": 3
   },
   "file_extension": ".py",
   "mimetype": "text/x-python",
   "name": "python",
   "nbconvert_exporter": "python",
   "pygments_lexer": "ipython3",
   "version": "3.7.6"
  }
 },
 "nbformat": 4,
 "nbformat_minor": 4
}
